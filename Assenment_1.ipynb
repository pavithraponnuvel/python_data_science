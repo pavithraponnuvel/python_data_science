{
 "cells": [
  {
   "cell_type": "code",
   "execution_count": 7,
   "id": "2446e2d8",
   "metadata": {},
   "outputs": [
    {
     "data": {
      "text/plain": [
       "array([0., 0., 0., 0., 0., 1., 0., 0., 0., 0.])"
      ]
     },
     "execution_count": 7,
     "metadata": {},
     "output_type": "execute_result"
    }
   ],
   "source": [
    "import pandas as pd\n",
    "import numpy as np\n",
    "\n",
    "# 1. Create a null vector of size 10 but the fifth value which is 1.\n",
    "z = np.zeros(10)\n",
    "z[5]=1\n",
    "z"
   ]
  },
  {
   "cell_type": "code",
   "execution_count": 9,
   "id": "d77c7006",
   "metadata": {},
   "outputs": [
    {
     "data": {
      "text/plain": [
       "array([10, 11, 12, 13, 14, 15, 16, 17, 18, 19, 20, 21, 22, 23, 24, 25, 26,\n",
       "       27, 28, 29, 30, 31, 32, 33, 34, 35, 36, 37, 38, 39, 40, 41, 42, 43,\n",
       "       44, 45, 46, 47])"
      ]
     },
     "execution_count": 9,
     "metadata": {},
     "output_type": "execute_result"
    }
   ],
   "source": [
    "# 2. Create a vector with values ranging from 10 to 49.\n",
    "arr=np.arange(10,48)\n",
    "arr\n"
   ]
  },
  {
   "cell_type": "code",
   "execution_count": 18,
   "id": "ced6f4de",
   "metadata": {},
   "outputs": [
    {
     "data": {
      "text/plain": [
       "array([[0, 1, 2],\n",
       "       [3, 4, 5],\n",
       "       [6, 7, 8]])"
      ]
     },
     "execution_count": 18,
     "metadata": {},
     "output_type": "execute_result"
    }
   ],
   "source": [
    "# 3. Create a 3x3 matrix with values ranging from 0 to 8\n",
    "arr=np.arange(0,9).reshape(3,3)\n",
    "arr"
   ]
  },
  {
   "cell_type": "code",
   "execution_count": 19,
   "id": "d609c1c6",
   "metadata": {},
   "outputs": [
    {
     "data": {
      "text/plain": [
       "(array([0, 1, 4], dtype=int64),)"
      ]
     },
     "execution_count": 19,
     "metadata": {},
     "output_type": "execute_result"
    }
   ],
   "source": [
    "# 4. Find indices of non-zero elements from [1,2,0,0,4,0]\n",
    "arr=np.array([1,2,0,0,4,0])\n",
    "non_zero_arr=np.nonzero(arr)\n",
    "non_zero_arr"
   ]
  },
  {
   "cell_type": "code",
   "execution_count": 24,
   "id": "2a1d11ca",
   "metadata": {},
   "outputs": [
    {
     "name": "stdout",
     "output_type": "stream",
     "text": [
      "Minimum value: 0.006836582675909697\n",
      "Maximum value: 0.9970086820479832\n"
     ]
    }
   ],
   "source": [
    "# 5. Create a 10x10 array with random values and find the minimum and maximum values.\n",
    "arr=np.random.rand(10,10)\n",
    "arr\n",
    "max_val=np.max(arr)\n",
    "min_val=np.min(arr)\n",
    "print(\"Minimum value:\", min_val)\n",
    "print(\"Maximum value:\", max_val)"
   ]
  },
  {
   "cell_type": "code",
   "execution_count": 26,
   "id": "a6bd629a",
   "metadata": {},
   "outputs": [
    {
     "name": "stdout",
     "output_type": "stream",
     "text": [
      "mean_val: 0.5540027766275112\n"
     ]
    }
   ],
   "source": [
    "# 6. Create a random vector of size 30 and find the mean value.\n",
    "arr=np.random.rand(30)\n",
    "mean=np.mean(arr)\n",
    "print(\"mean_val:\",mean)"
   ]
  },
  {
   "cell_type": "code",
   "execution_count": null,
   "id": "f920e281",
   "metadata": {},
   "outputs": [],
   "source": []
  }
 ],
 "metadata": {
  "kernelspec": {
   "display_name": "Python 3 (ipykernel)",
   "language": "python",
   "name": "python3"
  },
  "language_info": {
   "codemirror_mode": {
    "name": "ipython",
    "version": 3
   },
   "file_extension": ".py",
   "mimetype": "text/x-python",
   "name": "python",
   "nbconvert_exporter": "python",
   "pygments_lexer": "ipython3",
   "version": "3.11.4"
  }
 },
 "nbformat": 4,
 "nbformat_minor": 5
}
